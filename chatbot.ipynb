{
 "cells": [
  {
   "cell_type": "code",
   "execution_count": 2,
   "id": "760b987d",
   "metadata": {},
   "outputs": [],
   "source": [
    "import numpy as np\n",
    "import pandas as pd\n",
    "import mysql.connector as sql\n",
    "from IPython.display import clear_output\n",
    "import os\n",
    "from sklearn.svm import SVC\n",
    "from sklearn.model_selection import train_test_split as tts\n",
    "from sklearn.feature_extraction.text import TfidfVectorizer\n",
    "from sklearn.preprocessing import LabelEncoder as LE\n",
    "from sklearn.metrics.pairwise import cosine_similarity\n",
    "from sklearn.metrics import confusion_matrix,accuracy_score,classification_report\n",
    "import nltk\n",
    "# nltk.download('stopwords')\n",
    "# nltk.download('omw-1.4')\n",
    "# nltk.download('punkt')\n",
    "from nltk.stem.lancaster import LancasterStemmer\n",
    "from nltk.corpus import stopwords\n",
    "import datetime\n",
    "stop_words = set(stopwords.words('english'))\n",
    "import re\n",
    "from nltk.stem import WordNetLemmatizer\n",
    "# nltk.download('wordnet')"
   ]
  },
  {
   "cell_type": "code",
   "execution_count": 3,
   "id": "57249d0b",
   "metadata": {},
   "outputs": [
    {
     "name": "stdout",
     "output_type": "stream",
     "text": [
      "8.0.33\n"
     ]
    }
   ],
   "source": [
    "print(sql.__version__)"
   ]
  },
  {
   "cell_type": "markdown",
   "id": "a46864ea",
   "metadata": {},
   "source": [
    "# Data Preprocessing"
   ]
  },
  {
   "cell_type": "code",
   "execution_count": 4,
   "id": "42e33bbf",
   "metadata": {},
   "outputs": [
    {
     "data": {
      "text/html": [
       "<div>\n",
       "<style scoped>\n",
       "    .dataframe tbody tr th:only-of-type {\n",
       "        vertical-align: middle;\n",
       "    }\n",
       "\n",
       "    .dataframe tbody tr th {\n",
       "        vertical-align: top;\n",
       "    }\n",
       "\n",
       "    .dataframe thead th {\n",
       "        text-align: right;\n",
       "    }\n",
       "</style>\n",
       "<table border=\"1\" class=\"dataframe\">\n",
       "  <thead>\n",
       "    <tr style=\"text-align: right;\">\n",
       "      <th></th>\n",
       "      <th>Question</th>\n",
       "      <th>Answer</th>\n",
       "      <th>Class</th>\n",
       "    </tr>\n",
       "  </thead>\n",
       "  <tbody>\n",
       "    <tr>\n",
       "      <th>0</th>\n",
       "      <td>What are the documents required for opening a ...</td>\n",
       "      <td>Following documents are required to open a Cur...</td>\n",
       "      <td>accounts</td>\n",
       "    </tr>\n",
       "    <tr>\n",
       "      <th>1</th>\n",
       "      <td>Can I transfer my Current Account from one bra...</td>\n",
       "      <td>Yes, Current Accounts can be transferred from ...</td>\n",
       "      <td>accounts</td>\n",
       "    </tr>\n",
       "    <tr>\n",
       "      <th>2</th>\n",
       "      <td>My present status is NRI. What extra documents...</td>\n",
       "      <td>NRI/PIO can open the proprietorship/partnershi...</td>\n",
       "      <td>accounts</td>\n",
       "    </tr>\n",
       "    <tr>\n",
       "      <th>3</th>\n",
       "      <td>What are the documents required for opening a ...</td>\n",
       "      <td>Following documents are required for opening a...</td>\n",
       "      <td>accounts</td>\n",
       "    </tr>\n",
       "    <tr>\n",
       "      <th>4</th>\n",
       "      <td>What documents are required to change the addr...</td>\n",
       "      <td>Following documents are required to change the...</td>\n",
       "      <td>accounts</td>\n",
       "    </tr>\n",
       "  </tbody>\n",
       "</table>\n",
       "</div>"
      ],
      "text/plain": [
       "                                            Question  \\\n",
       "0  What are the documents required for opening a ...   \n",
       "1  Can I transfer my Current Account from one bra...   \n",
       "2  My present status is NRI. What extra documents...   \n",
       "3  What are the documents required for opening a ...   \n",
       "4  What documents are required to change the addr...   \n",
       "\n",
       "                                              Answer     Class  \n",
       "0  Following documents are required to open a Cur...  accounts  \n",
       "1  Yes, Current Accounts can be transferred from ...  accounts  \n",
       "2  NRI/PIO can open the proprietorship/partnershi...  accounts  \n",
       "3  Following documents are required for opening a...  accounts  \n",
       "4  Following documents are required to change the...  accounts  "
      ]
     },
     "execution_count": 4,
     "metadata": {},
     "output_type": "execute_result"
    }
   ],
   "source": [
    "df=pd.read_csv('chatbotData.csv')\n",
    "df.head()"
   ]
  },
  {
   "cell_type": "code",
   "execution_count": 5,
   "id": "f2ab9351",
   "metadata": {},
   "outputs": [
    {
     "name": "stdout",
     "output_type": "stream",
     "text": [
      "6228\n"
     ]
    }
   ],
   "source": [
    "print(df.size)"
   ]
  },
  {
   "cell_type": "code",
   "execution_count": 6,
   "id": "b1bdd47f",
   "metadata": {},
   "outputs": [
    {
     "data": {
      "text/html": [
       "<div>\n",
       "<style scoped>\n",
       "    .dataframe tbody tr th:only-of-type {\n",
       "        vertical-align: middle;\n",
       "    }\n",
       "\n",
       "    .dataframe tbody tr th {\n",
       "        vertical-align: top;\n",
       "    }\n",
       "\n",
       "    .dataframe thead th {\n",
       "        text-align: right;\n",
       "    }\n",
       "</style>\n",
       "<table border=\"1\" class=\"dataframe\">\n",
       "  <thead>\n",
       "    <tr style=\"text-align: right;\">\n",
       "      <th></th>\n",
       "      <th>Question</th>\n",
       "      <th>Answer</th>\n",
       "      <th>Class</th>\n",
       "    </tr>\n",
       "  </thead>\n",
       "  <tbody>\n",
       "    <tr>\n",
       "      <th>0</th>\n",
       "      <td>What are the documents required for opening a ...</td>\n",
       "      <td>Following documents are required to open a Cur...</td>\n",
       "      <td>accounts</td>\n",
       "    </tr>\n",
       "    <tr>\n",
       "      <th>1</th>\n",
       "      <td>Can I transfer my Current Account from one bra...</td>\n",
       "      <td>Yes, Current Accounts can be transferred from ...</td>\n",
       "      <td>accounts</td>\n",
       "    </tr>\n",
       "    <tr>\n",
       "      <th>2</th>\n",
       "      <td>My present status is NRI. What extra documents...</td>\n",
       "      <td>NRI/PIO can open the proprietorship/partnershi...</td>\n",
       "      <td>accounts</td>\n",
       "    </tr>\n",
       "    <tr>\n",
       "      <th>3</th>\n",
       "      <td>What are the documents required for opening a ...</td>\n",
       "      <td>Following documents are required for opening a...</td>\n",
       "      <td>accounts</td>\n",
       "    </tr>\n",
       "    <tr>\n",
       "      <th>4</th>\n",
       "      <td>What documents are required to change the addr...</td>\n",
       "      <td>Following documents are required to change the...</td>\n",
       "      <td>accounts</td>\n",
       "    </tr>\n",
       "    <tr>\n",
       "      <th>...</th>\n",
       "      <td>...</td>\n",
       "      <td>...</td>\n",
       "      <td>...</td>\n",
       "    </tr>\n",
       "    <tr>\n",
       "      <th>2071</th>\n",
       "      <td>How much interest did I earn in Q4 of this year?</td>\n",
       "      <td>NaN</td>\n",
       "      <td>NaN</td>\n",
       "    </tr>\n",
       "    <tr>\n",
       "      <th>2072</th>\n",
       "      <td>What is the interest earned on my account duri...</td>\n",
       "      <td>NaN</td>\n",
       "      <td>NaN</td>\n",
       "    </tr>\n",
       "    <tr>\n",
       "      <th>2073</th>\n",
       "      <td>Can you show me a breakdown of the interest ea...</td>\n",
       "      <td>NaN</td>\n",
       "      <td>NaN</td>\n",
       "    </tr>\n",
       "    <tr>\n",
       "      <th>2074</th>\n",
       "      <td>What is the interest earned on my account for ...</td>\n",
       "      <td>NaN</td>\n",
       "      <td>NaN</td>\n",
       "    </tr>\n",
       "    <tr>\n",
       "      <th>2075</th>\n",
       "      <td>What is the interest earned on my account for ...</td>\n",
       "      <td>NaN</td>\n",
       "      <td>NaN</td>\n",
       "    </tr>\n",
       "  </tbody>\n",
       "</table>\n",
       "<p>2076 rows × 3 columns</p>\n",
       "</div>"
      ],
      "text/plain": [
       "                                               Question  \\\n",
       "0     What are the documents required for opening a ...   \n",
       "1     Can I transfer my Current Account from one bra...   \n",
       "2     My present status is NRI. What extra documents...   \n",
       "3     What are the documents required for opening a ...   \n",
       "4     What documents are required to change the addr...   \n",
       "...                                                 ...   \n",
       "2071   How much interest did I earn in Q4 of this year?   \n",
       "2072  What is the interest earned on my account duri...   \n",
       "2073  Can you show me a breakdown of the interest ea...   \n",
       "2074  What is the interest earned on my account for ...   \n",
       "2075  What is the interest earned on my account for ...   \n",
       "\n",
       "                                                 Answer     Class  \n",
       "0     Following documents are required to open a Cur...  accounts  \n",
       "1     Yes, Current Accounts can be transferred from ...  accounts  \n",
       "2     NRI/PIO can open the proprietorship/partnershi...  accounts  \n",
       "3     Following documents are required for opening a...  accounts  \n",
       "4     Following documents are required to change the...  accounts  \n",
       "...                                                 ...       ...  \n",
       "2071                                                NaN       NaN  \n",
       "2072                                                NaN       NaN  \n",
       "2073                                                NaN       NaN  \n",
       "2074                                                NaN       NaN  \n",
       "2075                                                NaN       NaN  \n",
       "\n",
       "[2076 rows x 3 columns]"
      ]
     },
     "execution_count": 6,
     "metadata": {},
     "output_type": "execute_result"
    }
   ],
   "source": [
    "df"
   ]
  },
  {
   "cell_type": "code",
   "execution_count": 7,
   "id": "6a93d624",
   "metadata": {},
   "outputs": [],
   "source": [
    "df['Class'] = df['Class'].fillna('Transaction')"
   ]
  },
  {
   "cell_type": "code",
   "execution_count": 8,
   "id": "d1205d6a",
   "metadata": {},
   "outputs": [
    {
     "data": {
      "text/plain": [
       "Question    object\n",
       "Answer      object\n",
       "Class       object\n",
       "dtype: object"
      ]
     },
     "execution_count": 8,
     "metadata": {},
     "output_type": "execute_result"
    }
   ],
   "source": [
    "df.dtypes"
   ]
  },
  {
   "cell_type": "code",
   "execution_count": 9,
   "id": "2b28a46a",
   "metadata": {},
   "outputs": [
    {
     "data": {
      "text/html": [
       "<div>\n",
       "<style scoped>\n",
       "    .dataframe tbody tr th:only-of-type {\n",
       "        vertical-align: middle;\n",
       "    }\n",
       "\n",
       "    .dataframe tbody tr th {\n",
       "        vertical-align: top;\n",
       "    }\n",
       "\n",
       "    .dataframe thead th {\n",
       "        text-align: right;\n",
       "    }\n",
       "</style>\n",
       "<table border=\"1\" class=\"dataframe\">\n",
       "  <thead>\n",
       "    <tr style=\"text-align: right;\">\n",
       "      <th></th>\n",
       "      <th>Question</th>\n",
       "      <th>Answer</th>\n",
       "      <th>Class</th>\n",
       "    </tr>\n",
       "  </thead>\n",
       "  <tbody>\n",
       "    <tr>\n",
       "      <th>0</th>\n",
       "      <td>What are the documents required for opening a ...</td>\n",
       "      <td>Following documents are required to open a Cur...</td>\n",
       "      <td>accounts</td>\n",
       "    </tr>\n",
       "    <tr>\n",
       "      <th>1</th>\n",
       "      <td>Can I transfer my Current Account from one bra...</td>\n",
       "      <td>Yes, Current Accounts can be transferred from ...</td>\n",
       "      <td>accounts</td>\n",
       "    </tr>\n",
       "    <tr>\n",
       "      <th>2</th>\n",
       "      <td>My present status is NRI. What extra documents...</td>\n",
       "      <td>NRI/PIO can open the proprietorship/partnershi...</td>\n",
       "      <td>accounts</td>\n",
       "    </tr>\n",
       "    <tr>\n",
       "      <th>3</th>\n",
       "      <td>What are the documents required for opening a ...</td>\n",
       "      <td>Following documents are required for opening a...</td>\n",
       "      <td>accounts</td>\n",
       "    </tr>\n",
       "    <tr>\n",
       "      <th>4</th>\n",
       "      <td>What documents are required to change the addr...</td>\n",
       "      <td>Following documents are required to change the...</td>\n",
       "      <td>accounts</td>\n",
       "    </tr>\n",
       "    <tr>\n",
       "      <th>5</th>\n",
       "      <td>What are the documents required for opening Cu...</td>\n",
       "      <td>Following documents are required for opening C...</td>\n",
       "      <td>accounts</td>\n",
       "    </tr>\n",
       "    <tr>\n",
       "      <th>6</th>\n",
       "      <td>Who can be a partner in a partnership firm</td>\n",
       "      <td>Partners must be major (above the age of 18), ...</td>\n",
       "      <td>accounts</td>\n",
       "    </tr>\n",
       "    <tr>\n",
       "      <th>7</th>\n",
       "      <td>What is the time taken to realize outstation c...</td>\n",
       "      <td>The indicative time taken for the realization ...</td>\n",
       "      <td>accounts</td>\n",
       "    </tr>\n",
       "    <tr>\n",
       "      <th>8</th>\n",
       "      <td>Can an individual open a Current Account</td>\n",
       "      <td>Yes. Documentation will be that of an individu...</td>\n",
       "      <td>accounts</td>\n",
       "    </tr>\n",
       "    <tr>\n",
       "      <th>9</th>\n",
       "      <td>Can EEFC Account be opened by Special Economic...</td>\n",
       "      <td>No, SEZ Units cannot open EEFC accounts.</td>\n",
       "      <td>accounts</td>\n",
       "    </tr>\n",
       "  </tbody>\n",
       "</table>\n",
       "</div>"
      ],
      "text/plain": [
       "                                            Question  \\\n",
       "0  What are the documents required for opening a ...   \n",
       "1  Can I transfer my Current Account from one bra...   \n",
       "2  My present status is NRI. What extra documents...   \n",
       "3  What are the documents required for opening a ...   \n",
       "4  What documents are required to change the addr...   \n",
       "5  What are the documents required for opening Cu...   \n",
       "6         Who can be a partner in a partnership firm   \n",
       "7  What is the time taken to realize outstation c...   \n",
       "8           Can an individual open a Current Account   \n",
       "9  Can EEFC Account be opened by Special Economic...   \n",
       "\n",
       "                                              Answer     Class  \n",
       "0  Following documents are required to open a Cur...  accounts  \n",
       "1  Yes, Current Accounts can be transferred from ...  accounts  \n",
       "2  NRI/PIO can open the proprietorship/partnershi...  accounts  \n",
       "3  Following documents are required for opening a...  accounts  \n",
       "4  Following documents are required to change the...  accounts  \n",
       "5  Following documents are required for opening C...  accounts  \n",
       "6  Partners must be major (above the age of 18), ...  accounts  \n",
       "7  The indicative time taken for the realization ...  accounts  \n",
       "8  Yes. Documentation will be that of an individu...  accounts  \n",
       "9           No, SEZ Units cannot open EEFC accounts.  accounts  "
      ]
     },
     "execution_count": 9,
     "metadata": {},
     "output_type": "execute_result"
    }
   ],
   "source": [
    "df.head(10)"
   ]
  },
  {
   "cell_type": "code",
   "execution_count": 10,
   "id": "4aba080d",
   "metadata": {},
   "outputs": [],
   "source": [
    "def cleanup(review):\n",
    "    review = re.sub('[^a-zA-Z]', ' ', review)\n",
    "    \n",
    "    review = review.lower()\n",
    "    review = review.split()\n",
    "    lemmatizer = WordNetLemmatizer()\n",
    "    all_stopwords = stopwords.words('english')\n",
    "    all_stopwords.append('bank')\n",
    "    review = [lemmatizer.lemmatize(word) for word in review if not word in set(all_stopwords)]\n",
    "#     print(type(review))\n",
    "#     print(len(review))\n",
    "#     print(review)\n",
    "    corpus.append(review)\n",
    "    df['Question'][i]=' '.join(review)\n",
    "    return ' '.join(review) "
   ]
  },
  {
   "cell_type": "code",
   "execution_count": 11,
   "id": "89c64105",
   "metadata": {},
   "outputs": [],
   "source": [
    "corpus=[]"
   ]
  },
  {
   "cell_type": "code",
   "execution_count": 12,
   "id": "f9ea1cd2",
   "metadata": {},
   "outputs": [
    {
     "name": "stdout",
     "output_type": "stream",
     "text": [
      "2076\n",
      "210\n"
     ]
    }
   ],
   "source": [
    "from sklearn.preprocessing import LabelEncoder\n",
    "le = LabelEncoder()\n",
    "\n",
    "X=[]\n",
    "m=0\n",
    "y=[]\n",
    "#preparing X and y to use\n",
    "print(len(df))\n",
    "for i in range(len(df)):\n",
    "  m=max(m,len(df['Question'][i]))\n",
    "  X.append(cleanup(df['Question'][i]))\n",
    "  y.append(df['Class'][i])\n",
    "print(m)"
   ]
  },
  {
   "cell_type": "code",
   "execution_count": 13,
   "id": "37bbd0fd",
   "metadata": {},
   "outputs": [
    {
     "name": "stdout",
     "output_type": "stream",
     "text": [
      "<class 'list'>\n",
      "2076\n",
      "2076\n"
     ]
    }
   ],
   "source": [
    "print(type(X))\n",
    "print(len(X))\n",
    "print(len(y))"
   ]
  },
  {
   "cell_type": "code",
   "execution_count": 15,
   "id": "2acf7d04",
   "metadata": {},
   "outputs": [],
   "source": [
    "le = LabelEncoder()\n",
    "y=le.fit_transform(y)"
   ]
  },
  {
   "cell_type": "code",
   "execution_count": 16,
   "id": "dee9795c",
   "metadata": {},
   "outputs": [
    {
     "name": "stdout",
     "output_type": "stream",
     "text": [
      "dict_keys([1, 2, 3, 4, 5, 6, 7, 0])\n"
     ]
    }
   ],
   "source": [
    "from collections import Counter\n",
    "items = Counter(y).keys()\n",
    "print(items)"
   ]
  },
  {
   "cell_type": "code",
   "execution_count": 17,
   "id": "f9ac0596",
   "metadata": {
    "scrolled": false
   },
   "outputs": [
    {
     "data": {
      "text/plain": [
       "Class\n",
       "Transaction      304\n",
       "accounts         314\n",
       "cards            403\n",
       "fundstransfer     14\n",
       "insurance        469\n",
       "investments      140\n",
       "loans            375\n",
       "security          57\n",
       "dtype: int64"
      ]
     },
     "execution_count": 17,
     "metadata": {},
     "output_type": "execute_result"
    }
   ],
   "source": [
    "df.groupby('Class').size()"
   ]
  },
  {
   "cell_type": "markdown",
   "id": "5bc6dc4d",
   "metadata": {},
   "source": [
    "# APPLYING TF-IDF TO CONVERT TEXT TO NUMBERS"
   ]
  },
  {
   "cell_type": "code",
   "execution_count": 18,
   "id": "26c9e0a9",
   "metadata": {},
   "outputs": [],
   "source": [
    "tfv = TfidfVectorizer(min_df=1, stop_words='english')\n",
    "X=tfv.fit_transform(X)"
   ]
  },
  {
   "cell_type": "code",
   "execution_count": 19,
   "id": "1918eae7",
   "metadata": {},
   "outputs": [
    {
     "name": "stdout",
     "output_type": "stream",
     "text": [
      "(1, 1105)\n",
      "<class 'scipy.sparse._csr.csr_matrix'>\n"
     ]
    }
   ],
   "source": [
    "x=tfv.transform(['account are very important'])\n",
    "x\n",
    "print(x.shape)\n",
    "print(type(x))"
   ]
  },
  {
   "cell_type": "markdown",
   "id": "edac69fa",
   "metadata": {},
   "source": [
    "# Splitting dataset to train model"
   ]
  },
  {
   "cell_type": "code",
   "execution_count": 20,
   "id": "692fec6e",
   "metadata": {},
   "outputs": [],
   "source": [
    "from sklearn.model_selection import train_test_split\n",
    "X_train, X_test, y_train, y_test = train_test_split(X, y, test_size = 0.15, random_state = 0)"
   ]
  },
  {
   "cell_type": "code",
   "execution_count": 21,
   "id": "1d62a65f",
   "metadata": {},
   "outputs": [
    {
     "name": "stdout",
     "output_type": "stream",
     "text": [
      "(1764, 1105)\n",
      "(1764,)\n",
      "(312, 1105)\n",
      "(312,)\n"
     ]
    }
   ],
   "source": [
    "print(X_train.shape)\n",
    "print(y_train.shape)\n",
    "print(X_test.shape)\n",
    "print(y_test.shape)"
   ]
  },
  {
   "cell_type": "markdown",
   "id": "e7f81849",
   "metadata": {},
   "source": [
    "# Training Model to predict the class of the query"
   ]
  },
  {
   "cell_type": "code",
   "execution_count": 22,
   "id": "4b5932d6",
   "metadata": {},
   "outputs": [
    {
     "name": "stdout",
     "output_type": "stream",
     "text": [
      "SVC: 0.9391025641025641\n"
     ]
    }
   ],
   "source": [
    "model = SVC(kernel='linear')\n",
    "model.fit(X_train, y_train)\n",
    "print(\"SVC:\", model.score(X_test, y_test))"
   ]
  },
  {
   "cell_type": "code",
   "execution_count": 23,
   "id": "5b1c2339",
   "metadata": {},
   "outputs": [],
   "source": [
    "y_pred=model.predict(X_test)"
   ]
  },
  {
   "cell_type": "code",
   "execution_count": 24,
   "id": "2a8f9ed8",
   "metadata": {},
   "outputs": [
    {
     "name": "stdout",
     "output_type": "stream",
     "text": [
      "93.91025641025641\n",
      "              precision    recall  f1-score   support\n",
      "\n",
      "           0       0.96      1.00      0.98        50\n",
      "           1       0.93      0.86      0.90        50\n",
      "           2       1.00      0.93      0.96        55\n",
      "           3       1.00      1.00      1.00         2\n",
      "           4       0.90      0.97      0.94        75\n",
      "           5       0.83      0.83      0.83        12\n",
      "           6       0.95      0.95      0.95        61\n",
      "           7       0.86      0.86      0.86         7\n",
      "\n",
      "    accuracy                           0.94       312\n",
      "   macro avg       0.93      0.93      0.93       312\n",
      "weighted avg       0.94      0.94      0.94       312\n",
      "\n"
     ]
    }
   ],
   "source": [
    "#Creating the confusion matrix and checking the accuracy\n",
    "cm=confusion_matrix(y_test,y_pred)\n",
    "acc=accuracy_score(y_test,y_pred)\n",
    "print(acc*100)\n",
    "print (classification_report(y_test, y_pred) )"
   ]
  },
  {
   "cell_type": "code",
   "execution_count": 25,
   "id": "aebec8af",
   "metadata": {},
   "outputs": [
    {
     "data": {
      "image/png": "[encoded data removed]",
      "text/plain": [
       "<Figure size 360x360 with 1 Axes>"
      ]
     },
     "metadata": {
      "needs_background": "light"
     },
     "output_type": "display_data"
    }
   ],
   "source": [
    "import matplotlib.pyplot as plt\n",
    "fig, ax = plt.subplots(figsize=(5, 5))\n",
    "ax.matshow(cm, cmap=plt.cm.Oranges, alpha=0.3)\n",
    "for i in range(cm.shape[0]):\n",
    "    for j in range(cm.shape[1]):\n",
    "        ax.text(x=j, y=i,s=cm[i, j], va='center', ha='center', size='xx-large')\n",
    " \n",
    "plt.xlabel('Predictions', fontsize=18)\n",
    "plt.ylabel('Actuals', fontsize=18)\n",
    "plt.title('Confusion Matrix', fontsize=18)\n",
    "plt.show()\n"
   ]
  },
  {
   "cell_type": "markdown",
   "id": "2d14bd30",
   "metadata": {},
   "source": [
    "# Creating a Function which will return the response to query"
   ]
  },
  {
   "cell_type": "code",
   "execution_count": 26,
   "id": "4b9b6cd5",
   "metadata": {},
   "outputs": [],
   "source": [
    "def get_max5(arr):\n",
    "    ixarr = []\n",
    "    for ix, el in enumerate(arr):\n",
    "        ixarr.append((el, ix))\n",
    "    ixarr.sort()\n",
    "    ixs = []\n",
    "    for i in ixarr[-5:]:\n",
    "        ixs.append(i[1])\n",
    "    return ixs[::-1]\n",
    "\n",
    "def get_response(usrText):\n",
    "    while True:\n",
    "        if usrText.lower() == \"bye\":\n",
    "            return \"Bye\"\n",
    "        GREETING_INPUTS = [\"hello\", \"hi\", \"greetings\", \"sup\", \"what's up\", \"hey\",\"hiii\",\"hii\",\"yo\"]\n",
    "        a = [x.lower() for x in GREETING_INPUTS]\n",
    "        sd=[\"Thanks\",\"Welcome\"]\n",
    "        d = [x.lower() for x in sd]\n",
    "        am=[\"OK\"]\n",
    "        c = [x.lower() for x in am]\n",
    "        qurstr=cleanup(usrText.strip().lower())\n",
    "        t_usr = tfv.transform([cleanup(usrText)])\n",
    "#         print(model.predict(t_usr))\n",
    "#         print('----')\n",
    "        class_ = le.inverse_transform(model.predict(t_usr))\n",
    "#         print(class_)\n",
    "        questionset = df[df['Class'].values == class_]\n",
    "        \n",
    "        cos_sims = []\n",
    "        for question in questionset['Question']:\n",
    "#             print(question,end=' ')\n",
    "            sims = cosine_similarity(tfv.transform([question]), t_usr)\n",
    "#             print(sims)\n",
    "            cos_sims.append(sims)\n",
    "        \n",
    "        \n",
    "        ind = cos_sims.index(max(cos_sims))\n",
    "        b = [questionset.index[ind]]\n",
    "        \n",
    "        if usrText.lower() in a:\n",
    "\n",
    "            return (\"Hi, I'm Emily!\\U0001F60A\")\n",
    "\n",
    "        if usrText.lower() in c:\n",
    "            return \"Ok...Alright!\\U0001F64C\"\n",
    "\n",
    "        if usrText.lower() in d:\n",
    "            return (\"My pleasure! \\U0001F607\")\n",
    "\n",
    "        if max(cos_sims) > [[0.]]:\n",
    "            a = df['Answer'][questionset.index[ind]]\n",
    "            if class_=='Transaction':\n",
    "                return sqlquery(a,usrText,qurstr)\n",
    "            else:\n",
    "                return a\n",
    "        elif max(cos_sims)==[[0.]]:\n",
    "           return \"sorry! \\U0001F605\""
   ]
  },
  {
   "cell_type": "markdown",
   "id": "2def3b1b",
   "metadata": {},
   "source": [
    "# asking query "
   ]
  },
  {
   "cell_type": "code",
   "execution_count": 27,
   "id": "9ca96fdf",
   "metadata": {},
   "outputs": [
    {
     "data": {
      "text/plain": [
       "'No policy loans are available for this product.'"
      ]
     },
     "execution_count": 27,
     "metadata": {},
     "output_type": "execute_result"
    }
   ],
   "source": [
    "get_response('loan policy')"
   ]
  },
  {
   "cell_type": "code",
   "execution_count": 28,
   "id": "f51b3c46",
   "metadata": {},
   "outputs": [
    {
     "data": {
      "text/plain": [
       "'Credila provides education loan to Indian students for higher studies in India and abroad. Credila has funded Indian students for pursuing higher studies in over 2000 institutes across 36 countries.'"
      ]
     },
     "execution_count": 28,
     "metadata": {},
     "output_type": "execute_result"
    }
   ],
   "source": [
    "get_response('How can i apply for a loan')"
   ]
  },
  {
   "cell_type": "code",
   "execution_count": 29,
   "id": "1d0cbdc6",
   "metadata": {},
   "outputs": [
    {
     "data": {
      "text/plain": [
       "'The indicative time taken for the realization of outstation cheques is given below: Cheques drawn where M&N  Bank has a branch, credit will be given on receipt of clear funds in: Main metro locations (Mumbai, Chennai, Kolkata, New Delhi): 7 working days Metro centers and state capitals (other than those of North Eastern states and Sikkim): Maximum period of 10 working days. In all other centres where we have branches: maximum period of 14 working days. Cheques drawn on non-branch locations where we have a tie-up with correspondent banks, credit will be given on receipt of clear funds: Within a maximum period of 14 working days Cheques drawn on non-branch locations where we do not have a tie-up with correspondent banks, credit will be given on receipt of clear funds: Within a maximum period of 14 working days For more details on the outstation cheque collection policy, click here. For other queries, Contact Us. View more'"
      ]
     },
     "execution_count": 29,
     "metadata": {},
     "output_type": "execute_result"
    }
   ],
   "source": [
    "get_response('document required to open a bank account')"
   ]
  },
  {
   "cell_type": "code",
   "execution_count": 30,
   "id": "93481693",
   "metadata": {},
   "outputs": [
    {
     "data": {
      "text/plain": [
       "'The indicative time taken for the realization of outstation cheques is given below: Cheques drawn where M&N  Bank has a branch, credit will be given on receipt of clear funds in: Main metro locations (Mumbai, Chennai, Kolkata, New Delhi): 7 working days Metro centers and state capitals (other than those of North Eastern states and Sikkim): Maximum period of 10 working days. In all other centres where we have branches: maximum period of 14 working days. Cheques drawn on non-branch locations where we have a tie-up with correspondent banks, credit will be given on receipt of clear funds: Within a maximum period of 14 working days Cheques drawn on non-branch locations where we do not have a tie-up with correspondent banks, credit will be given on receipt of clear funds: Within a maximum period of 14 working days For more details on the outstation cheque collection policy, click here. For other queries, Contact Us. View more'"
      ]
     },
     "execution_count": 30,
     "metadata": {},
     "output_type": "execute_result"
    }
   ],
   "source": [
    "get_response('process to open a bank account')"
   ]
  },
  {
   "cell_type": "markdown",
   "id": "9eccd0f6",
   "metadata": {},
   "source": [
    "# creating a sql query function which will deal with transaction related query of the customer"
   ]
  },
  {
   "cell_type": "code",
   "execution_count": 61,
   "id": "d44bbf1d",
   "metadata": {},
   "outputs": [],
   "source": [
    "def sqlquery(qr,a,b):\n",
    "    mydb= sql.connect(\n",
    "     host='localhost',\n",
    "     user='root',\n",
    "     passwd=\"\",\n",
    "     database='chatbotdb',\n",
    "     use_pure= True\n",
    "    )\n",
    "    userid= \"1\"\n",
    "    cur= mydb.cursor()\n",
    "    query = qr\n",
    "#     print(query)\n",
    "    allMonths = ['january', 'february', 'march', 'april', 'may', 'june', 'july', 'august', 'september', 'october', 'november', 'december']\n",
    "    monthArg=[]\n",
    "    yearArg=[]\n",
    "    #have to handle inputList\n",
    "    inputList=[]\n",
    "    for inp in inputList:\n",
    "        if inp.lower() in allMonths:\n",
    "            monthArg.append(inp.lower())\n",
    "        elif inp.isnumeric() and len(inp)==4:\n",
    "            yearArg.append(int(inp))\n",
    "    if len(yearArg)==2 and yearArg[0]>yearArg[1]:\n",
    "        return \"Invalid Date Range\"\n",
    "    while len(monthArg)<2:\n",
    "        monthArg.append(\"Dummy_Value\")\n",
    "    while len(yearArg)<2:\n",
    "        yearArg.append(\"Dummy_Value\")\n",
    "    \n",
    "    #monthArg and YearArg are two list which will keep the information taken out from query\n",
    "    #We will keep the size of these two list as 2(Will pad with 0 if needed)\n",
    "    query=query.replace(\"userIdArg\", userid)\n",
    "    query=query.replace(\"month1Arg\", monthArg[0])\n",
    "    query=query.replace(\"month2Arg\", monthArg[1])\n",
    "    query=query.replace(\"year1Arg\", yearArg[0])\n",
    "    query=query.replace(\"year2Arg\", yearArg[1])\n",
    "    \n",
    "\n",
    "    cur.execute(query)\n",
    "    data_bases = cur.fetchall()\n",
    "#     print(type(data_bases))\n",
    "    return data_bases"
   ]
  },
  {
   "cell_type": "markdown",
   "id": "1dece82e",
   "metadata": {},
   "source": [
    "# creating a virtual interface to check if it is working "
   ]
  },
  {
   "cell_type": "code",
   "execution_count": 62,
   "id": "781a5c4a",
   "metadata": {},
   "outputs": [
    {
     "name": "stdout",
     "output_type": "stream",
     "text": [
      "Enter your user id and password\n",
      "1\n",
      "john\n",
      "Hello John\n",
      "current balance\n",
      "(2500,)\n",
      "show my transactions\n",
      "('1', '1', 10001, datetime.datetime(2022, 1, 15, 0, 0), 'Deposit', 1000, 'Grocery Store', 'Credit Card')\n",
      "('11', '1', 10001, datetime.datetime(2022, 3, 5, 0, 0), 'Withdrawal', 500, 'ATM', 'Debit Card')\n",
      "('16', '1', 10001, datetime.datetime(2022, 2, 20, 0, 0), 'Deposit', 2000, 'Retail Store', 'Credit Card')\n",
      "('21', '1', 10001, datetime.datetime(2022, 1, 15, 0, 0), 'Deposit', 1000, 'Grocery Store', 'Credit Card')\n",
      "('26', '1', 10001, datetime.datetime(2022, 2, 1, 0, 0), 'Deposit', 800, 'Retail Store', 'Debit Card')\n",
      "('31', '1', 10001, datetime.datetime(2022, 3, 5, 0, 0), 'Withdrawal', 500, 'ATM', 'Debit Card')\n",
      "('36', '1', 10001, datetime.datetime(2022, 2, 20, 0, 0), 'Deposit', 2000, 'Retail Store', 'Credit Card')\n",
      "('6', '1', 10001, datetime.datetime(2022, 2, 1, 0, 0), 'Deposit', 800, 'Retail Store', 'Debit Card')\n",
      "thanks\n",
      "You are Welcome\n"
     ]
    }
   ],
   "source": [
    "flag= True\n",
    "print(\"Enter your user id and password\")\n",
    "userid=input()\n",
    "passwd=input()\n",
    "passwd= \"'\" + passwd +\"'\"\n",
    "# print(passwd)\n",
    "# print(type(passwd))\n",
    "mydb= sql.connect(\n",
    "     host='localhost',\n",
    "     user='root',\n",
    "     passwd=\"\",\n",
    "     database='chatbotdb',\n",
    "     use_pure= True\n",
    ")\n",
    "cur= mydb.cursor()\n",
    "\n",
    "query= 'select count(*) from user where user_id='+ userid +' and first_name='+ passwd\n",
    "# print(query)\n",
    "cur.execute(query)\n",
    "\n",
    "data_bases = cur.fetchall()\n",
    "if(data_bases[0][0]==1):\n",
    "    query= 'select * from user where user_id='+userid+' and first_name='+passwd\n",
    "    cur.execute(query)\n",
    "\n",
    "    data_bases = cur.fetchall()\n",
    "    print('Hello', data_bases[0][2])\n",
    "    flag=True\n",
    "else:\n",
    "    print('Wrong Credentials')\n",
    "\n",
    "\n",
    "while(flag==True):\n",
    "    user_response=input()\n",
    "    user_response=user_response.lower()\n",
    "    if(user_response!='bye'):\n",
    "        if(user_response=='thanks'):\n",
    "            flag=False\n",
    "            print('You are Welcome')\n",
    "        else:\n",
    "            a=get_response(user_response)\n",
    "            for i in range(len(a)):\n",
    "                print(a[i])\n",
    "    else:\n",
    "        flag=False\n",
    "        print('take care')"
   ]
  },
  {
   "cell_type": "code",
   "execution_count": null,
   "id": "22f19eb2",
   "metadata": {},
   "outputs": [],
   "source": []
  },
  {
   "cell_type": "code",
   "execution_count": null,
   "id": "1346b1cb",
   "metadata": {},
   "outputs": [],
   "source": []
  },
  {
   "cell_type": "code",
   "execution_count": null,
   "id": "93fde972",
   "metadata": {},
   "outputs": [],
   "source": []
  },
  {
   "cell_type": "code",
   "execution_count": null,
   "id": "6f72b298",
   "metadata": {},
   "outputs": [],
   "source": []
  },
  {
   "cell_type": "code",
   "execution_count": null,
   "id": "e11f33ce",
   "metadata": {},
   "outputs": [],
   "source": []
  }
 ],
 "metadata": {
  "kernelspec": {
   "display_name": "Python 3",
   "language": "python",
   "name": "python3"
  },
  "language_info": {
   "codemirror_mode": {
    "name": "ipython",
    "version": 3
   },
   "file_extension": ".py",
   "mimetype": "text/x-python",
   "name": "python",
   "nbconvert_exporter": "python",
   "pygments_lexer": "ipython3",
   "version": "3.8.8"
  }
 },
 "nbformat": 4,
 "nbformat_minor": 5
}
